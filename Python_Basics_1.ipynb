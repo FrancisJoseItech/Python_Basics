{
 "cells": [
  {
   "cell_type": "markdown",
   "id": "d4619efd-fa44-40ce-a288-5727ec32289e",
   "metadata": {},
   "source": [
    "#Format"
   ]
  },
  {
   "cell_type": "code",
   "execution_count": 2,
   "id": "955ffe86-13e7-4992-9ce0-964882e4f13e",
   "metadata": {},
   "outputs": [],
   "source": [
    "num = 12\n",
    "name = 'Sam'"
   ]
  },
  {
   "cell_type": "code",
   "execution_count": 3,
   "id": "79ea488d-6abc-4fa7-9022-5230377e40a4",
   "metadata": {},
   "outputs": [
    {
     "data": {
      "text/plain": [
       "'My num is 12 and my name is Sam'"
      ]
     },
     "execution_count": 3,
     "metadata": {},
     "output_type": "execute_result"
    }
   ],
   "source": [
    "'My num is {} and my name is {}'.format(num,name)"
   ]
  },
  {
   "cell_type": "code",
   "execution_count": 4,
   "id": "0598d666-8d54-4e61-82ce-a089909b9ce8",
   "metadata": {},
   "outputs": [
    {
     "name": "stdout",
     "output_type": "stream",
     "text": [
      "My num is 12 and my name is Sam\n"
     ]
    }
   ],
   "source": [
    "print('My num is {} and my name is {}'.format(num,name))"
   ]
  },
  {
   "cell_type": "code",
   "execution_count": 5,
   "id": "c15bbdbb-9000-47e8-a21b-921cc6007c1f",
   "metadata": {},
   "outputs": [
    {
     "name": "stdout",
     "output_type": "stream",
     "text": [
      "My num is 12 and my name is Sam\n"
     ]
    }
   ],
   "source": [
    "print('My num is {one} and my name is {two}'.format(one=num,two=name))"
   ]
  },
  {
   "cell_type": "code",
   "execution_count": 6,
   "id": "dcf839de-2edb-4000-b582-d66badf97003",
   "metadata": {},
   "outputs": [
    {
     "name": "stdout",
     "output_type": "stream",
     "text": [
      "My num is 12 and my name is Sam, more 12\n"
     ]
    }
   ],
   "source": [
    "print('My num is {one} and my name is {two}, more {one}'.format(one=num,two=name))"
   ]
  },
  {
   "cell_type": "markdown",
   "id": "d6456c1d-dc71-49f8-b529-3020e0b816ed",
   "metadata": {},
   "source": [
    "#Indexing"
   ]
  },
  {
   "cell_type": "code",
   "execution_count": 7,
   "id": "47183fb2-d4c8-4563-915f-d703a9ba68d9",
   "metadata": {},
   "outputs": [],
   "source": [
    "s= 'Hello'"
   ]
  },
  {
   "cell_type": "code",
   "execution_count": 8,
   "id": "cb7e4896-3556-4b65-949b-869c3151da8c",
   "metadata": {},
   "outputs": [
    {
     "data": {
      "text/plain": [
       "'l'"
      ]
     },
     "execution_count": 8,
     "metadata": {},
     "output_type": "execute_result"
    }
   ],
   "source": [
    "s[3]"
   ]
  },
  {
   "cell_type": "code",
   "execution_count": 9,
   "id": "78537adc-6d0e-4c46-960d-4b40bf5dcf17",
   "metadata": {},
   "outputs": [
    {
     "data": {
      "text/plain": [
       "'H'"
      ]
     },
     "execution_count": 9,
     "metadata": {},
     "output_type": "execute_result"
    }
   ],
   "source": [
    "s[0]"
   ]
  },
  {
   "cell_type": "code",
   "execution_count": 10,
   "id": "b03c4dc4-4c41-40f8-a969-6a2b6cbd5ad0",
   "metadata": {},
   "outputs": [
    {
     "data": {
      "text/plain": [
       "'o'"
      ]
     },
     "execution_count": 10,
     "metadata": {},
     "output_type": "execute_result"
    }
   ],
   "source": [
    "s[-1]"
   ]
  },
  {
   "cell_type": "code",
   "execution_count": 11,
   "id": "772fb19a-c79f-4cd7-b5ce-8be1fadba888",
   "metadata": {},
   "outputs": [],
   "source": [
    "s= 'ABCDEFGHIJK'"
   ]
  },
  {
   "cell_type": "code",
   "execution_count": 12,
   "id": "2f58e477-eb98-49e3-9242-41f52d5bcd10",
   "metadata": {},
   "outputs": [
    {
     "data": {
      "text/plain": [
       "'ABCDEFGHIJK'"
      ]
     },
     "execution_count": 12,
     "metadata": {},
     "output_type": "execute_result"
    }
   ],
   "source": [
    "s[0:]"
   ]
  },
  {
   "cell_type": "code",
   "execution_count": 13,
   "id": "8236f3f9-4f9b-4664-81fa-e385ee568400",
   "metadata": {},
   "outputs": [
    {
     "data": {
      "text/plain": [
       "'ABC'"
      ]
     },
     "execution_count": 13,
     "metadata": {},
     "output_type": "execute_result"
    }
   ],
   "source": [
    "s[:3]"
   ]
  },
  {
   "cell_type": "code",
   "execution_count": 14,
   "id": "89e71e68-3fa6-46d9-a8c0-b2685ae2ab75",
   "metadata": {},
   "outputs": [
    {
     "data": {
      "text/plain": [
       "'ABC'"
      ]
     },
     "execution_count": 14,
     "metadata": {},
     "output_type": "execute_result"
    }
   ],
   "source": [
    "s[0:3]"
   ]
  },
  {
   "cell_type": "code",
   "execution_count": 15,
   "id": "933076f2-2052-4417-9008-75881720c041",
   "metadata": {},
   "outputs": [
    {
     "data": {
      "text/plain": [
       "'DEF'"
      ]
     },
     "execution_count": 15,
     "metadata": {},
     "output_type": "execute_result"
    }
   ],
   "source": [
    "s[3:6]"
   ]
  },
  {
   "cell_type": "code",
   "execution_count": 16,
   "id": "1f2ba479-229b-4b8d-9336-3b9c564749ab",
   "metadata": {},
   "outputs": [],
   "source": [
    "#List"
   ]
  },
  {
   "cell_type": "code",
   "execution_count": 17,
   "id": "5c632d87-2c72-42b6-9a45-befcd257d333",
   "metadata": {},
   "outputs": [
    {
     "data": {
      "text/plain": [
       "['a', 'b', 'c']"
      ]
     },
     "execution_count": 17,
     "metadata": {},
     "output_type": "execute_result"
    }
   ],
   "source": [
    "['a','b','c']"
   ]
  },
  {
   "cell_type": "code",
   "execution_count": 18,
   "id": "ab7181e5-9213-4380-bb4a-30ba81ca5114",
   "metadata": {},
   "outputs": [],
   "source": [
    "my_list= ['a','b','c']"
   ]
  },
  {
   "cell_type": "code",
   "execution_count": 20,
   "id": "76b66886-5087-4fa6-953f-956b2778b49c",
   "metadata": {},
   "outputs": [],
   "source": [
    "my_list.append('d')"
   ]
  },
  {
   "cell_type": "code",
   "execution_count": 21,
   "id": "7d1c90e4-a0f8-41be-a8b8-e73ab2e63950",
   "metadata": {},
   "outputs": [
    {
     "data": {
      "text/plain": [
       "['a', 'b', 'c', 'd']"
      ]
     },
     "execution_count": 21,
     "metadata": {},
     "output_type": "execute_result"
    }
   ],
   "source": [
    "my_list"
   ]
  },
  {
   "cell_type": "code",
   "execution_count": 22,
   "id": "18009368-a538-4bc3-b300-ff82f12925c7",
   "metadata": {},
   "outputs": [
    {
     "data": {
      "text/plain": [
       "'a'"
      ]
     },
     "execution_count": 22,
     "metadata": {},
     "output_type": "execute_result"
    }
   ],
   "source": [
    "my_list[0]"
   ]
  },
  {
   "cell_type": "code",
   "execution_count": 23,
   "id": "8c812b4b-a722-417e-a702-ba2d93fc6050",
   "metadata": {},
   "outputs": [
    {
     "data": {
      "text/plain": [
       "['b', 'c']"
      ]
     },
     "execution_count": 23,
     "metadata": {},
     "output_type": "execute_result"
    }
   ],
   "source": [
    "my_list[1:3]"
   ]
  },
  {
   "cell_type": "code",
   "execution_count": 24,
   "id": "80900732-35b7-4228-a6de-e9a18e9296e7",
   "metadata": {},
   "outputs": [],
   "source": [
    "my_list[0]= 'New'"
   ]
  },
  {
   "cell_type": "code",
   "execution_count": 25,
   "id": "f6c937bf-42fc-4c98-ab28-734d52edebbe",
   "metadata": {},
   "outputs": [
    {
     "data": {
      "text/plain": [
       "['New', 'b', 'c', 'd']"
      ]
     },
     "execution_count": 25,
     "metadata": {},
     "output_type": "execute_result"
    }
   ],
   "source": [
    "my_list"
   ]
  },
  {
   "cell_type": "code",
   "execution_count": 26,
   "id": "c3dabab2-f1cc-43af-8a38-7e296c2c605c",
   "metadata": {},
   "outputs": [],
   "source": [
    "nest= [1,2,3,[4,5]]"
   ]
  },
  {
   "cell_type": "code",
   "execution_count": 27,
   "id": "44df5813-afae-4aae-a3b9-d98df8509458",
   "metadata": {},
   "outputs": [
    {
     "data": {
      "text/plain": [
       "[1, 2, 3, [4, 5]]"
      ]
     },
     "execution_count": 27,
     "metadata": {},
     "output_type": "execute_result"
    }
   ],
   "source": [
    "nest"
   ]
  },
  {
   "cell_type": "code",
   "execution_count": 28,
   "id": "5cde6eec-cf8e-4f5b-b633-6934c43f4c36",
   "metadata": {},
   "outputs": [
    {
     "data": {
      "text/plain": [
       "[4, 5]"
      ]
     },
     "execution_count": 28,
     "metadata": {},
     "output_type": "execute_result"
    }
   ],
   "source": [
    "nest[3]"
   ]
  },
  {
   "cell_type": "code",
   "execution_count": 29,
   "id": "975fa87d-c97b-4e0f-8d3b-476cf0f791c9",
   "metadata": {},
   "outputs": [
    {
     "data": {
      "text/plain": [
       "5"
      ]
     },
     "execution_count": 29,
     "metadata": {},
     "output_type": "execute_result"
    }
   ],
   "source": [
    "nest[3][1]"
   ]
  },
  {
   "cell_type": "code",
   "execution_count": 30,
   "id": "8519ee36-542c-4174-a62b-4f24a84f361c",
   "metadata": {},
   "outputs": [],
   "source": [
    "nest=[1,2,3,[4,5,['target']]]"
   ]
  },
  {
   "cell_type": "code",
   "execution_count": 31,
   "id": "0b74ea40-ccdb-4692-b48b-65e8b3a261c6",
   "metadata": {},
   "outputs": [
    {
     "data": {
      "text/plain": [
       "[4, 5, ['target']]"
      ]
     },
     "execution_count": 31,
     "metadata": {},
     "output_type": "execute_result"
    }
   ],
   "source": [
    "nest[3]"
   ]
  },
  {
   "cell_type": "code",
   "execution_count": 32,
   "id": "dccf7de8-0682-4c0d-af05-10410289d8cb",
   "metadata": {},
   "outputs": [
    {
     "data": {
      "text/plain": [
       "['target']"
      ]
     },
     "execution_count": 32,
     "metadata": {},
     "output_type": "execute_result"
    }
   ],
   "source": [
    "nest[3][2]"
   ]
  },
  {
   "cell_type": "code",
   "execution_count": 33,
   "id": "3d8b8de5-d69e-431c-9023-bc9fec6c8646",
   "metadata": {},
   "outputs": [
    {
     "data": {
      "text/plain": [
       "'target'"
      ]
     },
     "execution_count": 33,
     "metadata": {},
     "output_type": "execute_result"
    }
   ],
   "source": [
    "nest[3][2][0]"
   ]
  },
  {
   "cell_type": "code",
   "execution_count": 34,
   "id": "25e80723-bef3-4f12-872b-557f14ceb105",
   "metadata": {},
   "outputs": [
    {
     "name": "stdout",
     "output_type": "stream",
     "text": [
      "target\n"
     ]
    }
   ],
   "source": [
    "print(nest[3][2][0])"
   ]
  },
  {
   "cell_type": "code",
   "execution_count": 37,
   "id": "97ba1f8c-cbc8-414f-ab35-da65c6056037",
   "metadata": {},
   "outputs": [
    {
     "name": "stdout",
     "output_type": "stream",
     "text": [
      "git version 2.45.1.windows.1\n"
     ]
    }
   ],
   "source": [
    "!git --version"
   ]
  },
  {
   "cell_type": "code",
   "execution_count": 38,
   "id": "3766b7f0-8df8-4983-922b-8a1b31a58b49",
   "metadata": {},
   "outputs": [
    {
     "name": "stdout",
     "output_type": "stream",
     "text": [
      "Initialized empty Git repository in C:/Users/Franzy/Documents/FranZy/IT/Python Training/Python_Revision_Feb2025/.git/\n"
     ]
    }
   ],
   "source": [
    "!git init"
   ]
  },
  {
   "cell_type": "code",
   "execution_count": 39,
   "id": "1ff752eb-8871-4adc-ab3e-526bfe0ebb35",
   "metadata": {},
   "outputs": [],
   "source": [
    "!git remote add origin https://github.com/FrancisJoseItech/Python_Basics.git"
   ]
  },
  {
   "cell_type": "code",
   "execution_count": 40,
   "id": "d1c7fa23-358e-4913-8d4b-2ff15173c45f",
   "metadata": {},
   "outputs": [
    {
     "name": "stderr",
     "output_type": "stream",
     "text": [
      "warning: in the working copy of 'Python_Basics_1.ipynb', LF will be replaced by CRLF the next time Git touches it\n"
     ]
    }
   ],
   "source": [
    "!git add Python_Basics_1.ipynb"
   ]
  },
  {
   "cell_type": "code",
   "execution_count": 41,
   "id": "3f1e0b75-0454-4f40-a875-7930706588db",
   "metadata": {},
   "outputs": [
    {
     "name": "stderr",
     "output_type": "stream",
     "text": [
      "warning: in the working copy of '.ipynb_checkpoints/Python_Basics_1-checkpoint.ipynb', LF will be replaced by CRLF the next time Git touches it\n"
     ]
    }
   ],
   "source": [
    "!git add ."
   ]
  },
  {
   "cell_type": "code",
   "execution_count": 42,
   "id": "c493ae35-a70b-4c1c-bf78-c631abf46201",
   "metadata": {},
   "outputs": [
    {
     "name": "stdout",
     "output_type": "stream",
     "text": [
      "[master (root-commit) 17a45ff] First_Jupyter_Notebook\n",
      " 2 files changed, 663 insertions(+)\n",
      " create mode 100644 .ipynb_checkpoints/Python_Basics_1-checkpoint.ipynb\n",
      " create mode 100644 Python_Basics_1.ipynb\n"
     ]
    }
   ],
   "source": [
    "!git commit -m \"First_Jupyter_Notebook\""
   ]
  },
  {
   "cell_type": "code",
   "execution_count": 57,
   "id": "10d18662-1642-4bca-bf39-22efe935aa19",
   "metadata": {},
   "outputs": [
    {
     "name": "stdout",
     "output_type": "stream",
     "text": [
      "branch 'main' set up to track 'origin/main'.\n"
     ]
    },
    {
     "name": "stderr",
     "output_type": "stream",
     "text": [
      "Everything up-to-date\n"
     ]
    }
   ],
   "source": [
    "!git branch -M main\n",
    "!git push -u origin main"
   ]
  },
  {
   "cell_type": "code",
   "execution_count": 58,
   "id": "08a5290a-5a33-4c3e-a14a-3fee622efd7d",
   "metadata": {},
   "outputs": [
    {
     "name": "stderr",
     "output_type": "stream",
     "text": [
      "warning: in the working copy of 'Python_Basics_1.ipynb', LF will be replaced by CRLF the next time Git touches it\n"
     ]
    },
    {
     "name": "stdout",
     "output_type": "stream",
     "text": [
      "[main 1226298] Updated_2_Python_Basics_1.ipynb\n",
      " 1 file changed, 10 insertions(+), 237 deletions(-)\n"
     ]
    }
   ],
   "source": [
    "!git add .\n",
    "!git commit -m \"Updated_2_Python_Basics_1.ipynb\""
   ]
  },
  {
   "cell_type": "code",
   "execution_count": 59,
   "id": "5b09dff7-1dd4-48b4-9d0d-582179b3062b",
   "metadata": {},
   "outputs": [
    {
     "name": "stderr",
     "output_type": "stream",
     "text": [
      "To https://github.com/FrancisJoseItech/Python_Basics.git\n",
      "   f9f62ed..1226298  main -> main\n"
     ]
    }
   ],
   "source": [
    "!git push origin main"
   ]
  },
  {
   "cell_type": "code",
   "execution_count": null,
   "id": "306d9325-371c-4747-996f-465518b1030e",
   "metadata": {},
   "outputs": [],
   "source": []
  }
 ],
 "metadata": {
  "kernelspec": {
   "display_name": "Python 3 (ipykernel)",
   "language": "python",
   "name": "python3"
  },
  "language_info": {
   "codemirror_mode": {
    "name": "ipython",
    "version": 3
   },
   "file_extension": ".py",
   "mimetype": "text/x-python",
   "name": "python",
   "nbconvert_exporter": "python",
   "pygments_lexer": "ipython3",
   "version": "3.12.3"
  }
 },
 "nbformat": 4,
 "nbformat_minor": 5
}
